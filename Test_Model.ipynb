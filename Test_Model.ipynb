{
  "nbformat": 4,
  "nbformat_minor": 0,
  "metadata": {
    "colab": {
      "provenance": [],
      "gpuType": "T4"
    },
    "kernelspec": {
      "name": "python3",
      "display_name": "Python 3"
    },
    "language_info": {
      "name": "python"
    },
    "accelerator": "GPU"
  },
  "cells": [
    {
      "cell_type": "markdown",
      "source": [
        "# **Test Model**<br/>\n",
        "**Master's Degree in Data Science (A.Y. 2023/2024)**<br/>\n",
        "**University of Milano - Bicocca**<br/>\n",
        "\n",
        "Vittorio Haardt, Luca Porcelli"
      ],
      "metadata": {
        "id": "YNMDuV62zrNo"
      }
    },
    {
      "cell_type": "code",
      "source": [
        "from google.colab import drive\n",
        "drive.mount('/content/drive')"
      ],
      "metadata": {
        "colab": {
          "base_uri": "https://localhost:8080/"
        },
        "id": "1hmZc8nrgVzt",
        "outputId": "92c784a4-74cf-4b63-8ad3-dc2e2a0cb324"
      },
      "execution_count": null,
      "outputs": [
        {
          "output_type": "stream",
          "name": "stdout",
          "text": [
            "Mounted at /content/drive\n"
          ]
        }
      ]
    },
    {
      "cell_type": "markdown",
      "source": [
        "# Data Extraction"
      ],
      "metadata": {
        "id": "aPtjHRPxz-gn"
      }
    },
    {
      "cell_type": "code",
      "source": [
        "!unzip \"/content/gdrive/MyDrive/VIPM/Dataset/val_set_nest.zip\" -d test"
      ],
      "metadata": {
        "id": "EAfiWA8J2xjI"
      },
      "execution_count": null,
      "outputs": []
    },
    {
      "cell_type": "code",
      "source": [
        "!unzip \"/content/gdrive/MyDrive/VIPM/Dataset/val_set_degraded_nest.zip\" -d test_degraded"
      ],
      "metadata": {
        "id": "Ic2LOnFe20y0"
      },
      "execution_count": null,
      "outputs": []
    },
    {
      "cell_type": "code",
      "source": [
        "!unzip \"/content/gdrive/MyDrive/VIPM/Dataset/deg_pul_nest.zip\" -d test_degraded_pul2"
      ],
      "metadata": {
        "id": "XsM8cDcsW3_0"
      },
      "execution_count": null,
      "outputs": []
    },
    {
      "cell_type": "markdown",
      "source": [
        "# Installing packages and loading libraries"
      ],
      "metadata": {
        "id": "Sd_q8nkYa-kW"
      }
    },
    {
      "cell_type": "code",
      "source": [
        "pip install keras_cv"
      ],
      "metadata": {
        "id": "bePTzPHm64C-"
      },
      "execution_count": null,
      "outputs": []
    },
    {
      "cell_type": "code",
      "source": [
        "pip install keras_core"
      ],
      "metadata": {
        "id": "od43AvPF69FM"
      },
      "execution_count": null,
      "outputs": []
    },
    {
      "cell_type": "code",
      "source": [
        "from collections import defaultdict\n",
        "import numpy as np\n",
        "import tensorflow as tf\n",
        "import keras\n",
        "from keras import layers\n",
        "import matplotlib.pyplot as plt\n",
        "from tqdm import tqdm\n",
        "import pandas as pd\n",
        "import os\n",
        "import keras_core\n",
        "from keras.models import load_model\n",
        "from collections import Counter\n",
        "import tensorflow as tf\n",
        "from tensorflow.keras.preprocessing.image import ImageDataGenerator\n",
        "from tensorflow.keras.applications import ResNet50\n",
        "from tensorflow.keras import regularizers\n",
        "from sklearn.metrics import classification_report, confusion_matrix\n",
        "import seaborn as sns\n",
        "from keras.metrics import TopKCategoricalAccuracy\n",
        "from keras.layers import GlobalAveragePooling2D\n",
        "import keras_cv\n",
        "from tensorflow.keras.callbacks import LearningRateScheduler\n",
        "from tensorflow.keras.optimizers import Adam"
      ],
      "metadata": {
        "id": "JJJXnp3P2ZtC",
        "colab": {
          "base_uri": "https://localhost:8080/"
        },
        "outputId": "8af9e7d9-7c3b-484b-bed6-6660dae6a411"
      },
      "execution_count": null,
      "outputs": [
        {
          "output_type": "stream",
          "name": "stdout",
          "text": [
            "Using TensorFlow backend\n"
          ]
        }
      ]
    },
    {
      "cell_type": "markdown",
      "source": [
        "# Test Data"
      ],
      "metadata": {
        "id": "ERoxPzZ2bFbd"
      }
    },
    {
      "cell_type": "code",
      "source": [
        "test = tf.keras.utils.image_dataset_from_directory(\n",
        "    \"/content/test/val_set_nest\",  # Directory path containing the images\n",
        "    labels=\"inferred\",             # Automatically infer labels from the subdirectory structure\n",
        "    label_mode=\"categorical\",      # Specify the label encoding mode as categorical\n",
        "    color_mode=\"rgb\",              # Set the color mode to RGB for the images\n",
        "    batch_size=64,                 # Batch size\n",
        "    image_size=(224, 224),         # Set the dimensions of the images to 224x224 pixels\n",
        "    shuffle=True)                  # Shuffle the dataset during training"
      ],
      "metadata": {
        "colab": {
          "base_uri": "https://localhost:8080/"
        },
        "id": "HPrsUgRV3kfP",
        "outputId": "321a3c6f-b3e4-4211-807f-f61a6b411c46"
      },
      "execution_count": null,
      "outputs": [
        {
          "output_type": "stream",
          "name": "stdout",
          "text": [
            "Found 11994 files belonging to 251 classes.\n"
          ]
        }
      ]
    },
    {
      "cell_type": "code",
      "source": [
        "test_degraded = tf.keras.utils.image_dataset_from_directory(\n",
        "    \"/content/test_degraded/val_set_degraded_nest\",  # Directory path containing the images\n",
        "    labels=\"inferred\",                               # Automatically infer labels from the subdirectory structure\n",
        "    label_mode=\"categorical\",                        # Specify the label encoding mode as categorical\n",
        "    color_mode=\"rgb\",                                # Set the color mode to RGB for the images\n",
        "    batch_size=64,                                   # Batch size\n",
        "    image_size=(224, 224),                           # Set the dimensions of the images to 224x224 pixels\n",
        "    shuffle=True)                                    # Shuffle the dataset during training"
      ],
      "metadata": {
        "colab": {
          "base_uri": "https://localhost:8080/"
        },
        "id": "-AXS1scf3zl7",
        "outputId": "cb20298c-fd3e-41d9-cdf0-2dda9c42ca15"
      },
      "execution_count": null,
      "outputs": [
        {
          "output_type": "stream",
          "name": "stdout",
          "text": [
            "Found 11994 files belonging to 251 classes.\n"
          ]
        }
      ]
    },
    {
      "cell_type": "code",
      "source": [
        "test_degraded_pul = tf.keras.utils.image_dataset_from_directory(\n",
        "    \"/content/test_degraded_pul2/deg_pul_nest\",  # Directory path containing the images\n",
        "    labels=\"inferred\",                           # Automatically infer labels from the subdirectory structure\n",
        "    label_mode=\"categorical\",                    # Specify the label encoding mode as categorical\n",
        "    color_mode=\"rgb\",                            # Set the color mode to RGB for the images\n",
        "    batch_size=64,                               # Batch size\n",
        "    image_size=(224, 224),                       # Set the dimensions of the images to 224x224 pixels\n",
        "    shuffle=True)                                # Shuffle the dataset during training"
      ],
      "metadata": {
        "colab": {
          "base_uri": "https://localhost:8080/"
        },
        "id": "8xLti6FiW0va",
        "outputId": "ce94c77d-b8c8-4395-e6e8-0266d16e3bb8"
      },
      "execution_count": null,
      "outputs": [
        {
          "output_type": "stream",
          "name": "stdout",
          "text": [
            "Found 11994 files belonging to 251 classes.\n"
          ]
        }
      ]
    },
    {
      "cell_type": "markdown",
      "source": [
        "# Uploading models"
      ],
      "metadata": {
        "id": "Ijq0ABqo17Sq"
      }
    },
    {
      "cell_type": "code",
      "execution_count": null,
      "metadata": {
        "id": "1izQsQwb1iuo"
      },
      "outputs": [],
      "source": [
        "Resnet50 = keras.models.load_model('/content/gdrive/MyDrive/VIPM/Models/Resnet50.h5')"
      ]
    },
    {
      "cell_type": "code",
      "source": [
        "Resnet50_DA = keras.models.load_model('/content/gdrive/MyDrive/VIPM/Models/ResNet50_DA.h5')"
      ],
      "metadata": {
        "id": "5yudsVP24A7D"
      },
      "execution_count": null,
      "outputs": []
    },
    {
      "cell_type": "code",
      "source": [
        "Resnet101 = keras.models.load_model('/content/gdrive/MyDrive/VIPM/Models/Resnet101.h5')"
      ],
      "metadata": {
        "id": "feMWBQKh4EU1"
      },
      "execution_count": null,
      "outputs": []
    },
    {
      "cell_type": "code",
      "source": [
        "Resnet101_DA = keras.models.load_model('/content/gdrive/MyDrive/VIPM/Models/ResNet101_DA.h5')"
      ],
      "metadata": {
        "id": "bqzKa6ud4Gzf"
      },
      "execution_count": null,
      "outputs": []
    },
    {
      "cell_type": "code",
      "source": [
        "EfficentNetB0 = keras.models.load_model('/content/gdrive/MyDrive/VIPM/Models/Efficientnet.Keras')"
      ],
      "metadata": {
        "id": "UEE9x9vWMqb-"
      },
      "execution_count": null,
      "outputs": []
    },
    {
      "cell_type": "code",
      "source": [
        "EfficentNetB0_DA = keras.models.load_model('/content/gdrive/MyDrive/VIPM/Models/EfficientNet_DA.Keras')"
      ],
      "metadata": {
        "id": "gG9VKvCEMv3O"
      },
      "execution_count": null,
      "outputs": []
    },
    {
      "cell_type": "markdown",
      "source": [
        "TEST"
      ],
      "metadata": {
        "id": "QICV49v8NTeP"
      }
    },
    {
      "cell_type": "code",
      "source": [
        "Resnet50_t = Resnet50.evaluate(test)\n",
        "Resnet50_td = Resnet50.evaluate(test_degraded)\n",
        "Resnet50_tdp = Resnet50.evaluate(test_degraded_pul)"
      ],
      "metadata": {
        "colab": {
          "base_uri": "https://localhost:8080/"
        },
        "id": "I3uejEQxMoq5",
        "outputId": "71a37c68-8eaa-4858-9478-e7360b45cae2"
      },
      "execution_count": null,
      "outputs": [
        {
          "output_type": "stream",
          "name": "stdout",
          "text": [
            "188/188 [==============================] - 45s 196ms/step - loss: 3.7220 - accuracy: 0.3972 - top_k_categorical_accuracy: 0.6737\n",
            "188/188 [==============================] - 35s 180ms/step - loss: 4.2779 - accuracy: 0.2825 - top_k_categorical_accuracy: 0.5165\n",
            "188/188 [==============================] - 37s 191ms/step - loss: 4.3295 - accuracy: 0.2721 - top_k_categorical_accuracy: 0.4986\n"
          ]
        }
      ]
    },
    {
      "cell_type": "code",
      "source": [
        "Resnet50_da_t = Resnet50_DA.evaluate(test)\n",
        "Resnet50_da_td = Resnet50_DA.evaluate(test_degraded)\n",
        "Resnet50_da_tdp = Resnet50_DA.evaluate(test_degraded_pul)"
      ],
      "metadata": {
        "colab": {
          "base_uri": "https://localhost:8080/"
        },
        "id": "_5XlOAbj4i41",
        "outputId": "bf9f9f6c-fd11-4f7a-fcb8-57e8b44090d2"
      },
      "execution_count": null,
      "outputs": [
        {
          "output_type": "stream",
          "name": "stdout",
          "text": [
            "188/188 [==============================] - 38s 193ms/step - loss: 4.0289 - accuracy: 0.3318 - top_k_categorical_accuracy: 0.6124\n",
            "188/188 [==============================] - 37s 192ms/step - loss: 4.2988 - accuracy: 0.2659 - top_k_categorical_accuracy: 0.5275\n",
            "188/188 [==============================] - 37s 191ms/step - loss: 4.3856 - accuracy: 0.2480 - top_k_categorical_accuracy: 0.4924\n"
          ]
        }
      ]
    },
    {
      "cell_type": "code",
      "source": [
        "Resnet101_t = Resnet101.evaluate(test)\n",
        "Resnet101_td = Resnet101.evaluate(test_degraded)\n",
        "Resnet101_tdp = Resnet101.evaluate(test_degraded_pul)"
      ],
      "metadata": {
        "colab": {
          "base_uri": "https://localhost:8080/"
        },
        "id": "8EbtTqd1Xa9d",
        "outputId": "e2a197ca-09b9-44d9-c85f-7154768f1edd"
      },
      "execution_count": null,
      "outputs": [
        {
          "output_type": "stream",
          "name": "stdout",
          "text": [
            "188/188 [==============================] - 62s 315ms/step - loss: 2.5812 - accuracy: 0.4982 - top_k_categorical_accuracy: 0.7605\n",
            "188/188 [==============================] - 60s 317ms/step - loss: 3.9362 - accuracy: 0.3314 - top_k_categorical_accuracy: 0.5414\n",
            "188/188 [==============================] - 60s 317ms/step - loss: 3.9782 - accuracy: 0.3319 - top_k_categorical_accuracy: 0.5428\n"
          ]
        }
      ]
    },
    {
      "cell_type": "code",
      "source": [
        "Resnet101_da_t = Resnet101_DA.evaluate(test)\n",
        "Resnet101_da_td = Resnet101_DA.evaluate(test_degraded)\n",
        "Resnet101_da_tdp = Resnet101_DA.evaluate(test_degraded_pul)"
      ],
      "metadata": {
        "colab": {
          "base_uri": "https://localhost:8080/"
        },
        "id": "TlyALq-1OKWO",
        "outputId": "40e8d7e1-551d-4960-925f-16abf56b9660"
      },
      "execution_count": null,
      "outputs": [
        {
          "output_type": "stream",
          "name": "stdout",
          "text": [
            "188/188 [==============================] - 61s 312ms/step - loss: 2.4574 - accuracy: 0.5193 - top_k_categorical_accuracy: 0.7826\n",
            "188/188 [==============================] - 59s 312ms/step - loss: 2.6883 - accuracy: 0.4745 - top_k_categorical_accuracy: 0.7412\n",
            "188/188 [==============================] - 61s 319ms/step - loss: 2.9832 - accuracy: 0.4273 - top_k_categorical_accuracy: 0.6940\n"
          ]
        }
      ]
    },
    {
      "cell_type": "code",
      "source": [
        "EffB0_t = EfficentNetB0.evaluate(test)\n",
        "EffB0_td = EfficentNetB0.evaluate(test_degraded)\n",
        "EffB0_tdp = EfficentNetB0.evaluate(test_degraded_pul)"
      ],
      "metadata": {
        "colab": {
          "base_uri": "https://localhost:8080/"
        },
        "id": "PBFGGTfHLl5s",
        "outputId": "f9f7747a-75de-4709-b898-49b00fbf62a6"
      },
      "execution_count": null,
      "outputs": [
        {
          "output_type": "stream",
          "name": "stdout",
          "text": [
            "188/188 [==============================] - 28s 125ms/step - loss: 2.3106 - accuracy: 0.5548 - top_k_categorical_accuracy: 0.8173\n",
            "188/188 [==============================] - 22s 116ms/step - loss: 3.4522 - accuracy: 0.3740 - top_k_categorical_accuracy: 0.6005\n",
            "188/188 [==============================] - 23s 116ms/step - loss: 3.5572 - accuracy: 0.3652 - top_k_categorical_accuracy: 0.5880\n"
          ]
        }
      ]
    },
    {
      "cell_type": "code",
      "source": [
        "EffB0_da_t = EfficentNetB0_DA.evaluate(test)\n",
        "EffB0_da_td = EfficentNetB0_DA.evaluate(test_degraded)\n",
        "EffB0_da_tdp = EfficentNetB0_DA.evaluate(test_degraded_pul)"
      ],
      "metadata": {
        "colab": {
          "base_uri": "https://localhost:8080/"
        },
        "id": "CLfvD6CmOS1A",
        "outputId": "ebecaa85-660b-413f-f2f4-3b2d06940605"
      },
      "execution_count": null,
      "outputs": [
        {
          "output_type": "stream",
          "name": "stdout",
          "text": [
            "188/188 [==============================] - 26s 124ms/step - loss: 2.5356 - accuracy: 0.4928 - top_k_categorical_accuracy: 0.7719\n",
            "188/188 [==============================] - 23s 118ms/step - loss: 2.7798 - accuracy: 0.4467 - top_k_categorical_accuracy: 0.7231\n",
            "188/188 [==============================] - 25s 131ms/step - loss: 3.0478 - accuracy: 0.4025 - top_k_categorical_accuracy: 0.6675\n"
          ]
        }
      ]
    }
  ]
}